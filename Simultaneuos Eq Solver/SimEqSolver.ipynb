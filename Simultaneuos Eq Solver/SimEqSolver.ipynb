{
 "cells": [
  {
   "cell_type": "code",
   "execution_count": 1,
   "metadata": {},
   "outputs": [
    {
     "name": "stdout",
     "output_type": "stream",
     "text": [
      "Solution:\n",
      "x = 2.2\n",
      "y = 1.2\n"
     ]
    }
   ],
   "source": [
    "import numpy as np\n",
    "\n",
    "# Define the coefficients of the equations\n",
    "A = np.array([[2, 3], [4, 1]])\n",
    "B = np.array([8, 10])\n",
    "\n",
    "# Solve the equations\n",
    "X = np.linalg.solve(A, B)\n",
    "\n",
    "# Print the solution\n",
    "print(\"Solution:\")\n",
    "print(\"x =\", X[0])\n",
    "print(\"y =\", X[1])\n"
   ]
  },
  {
   "cell_type": "code",
   "execution_count": null,
   "metadata": {},
   "outputs": [],
   "source": []
  }
 ],
 "metadata": {
  "kernelspec": {
   "display_name": "Python 3",
   "language": "python",
   "name": "python3"
  },
  "language_info": {
   "codemirror_mode": {
    "name": "ipython",
    "version": 3
   },
   "file_extension": ".py",
   "mimetype": "text/x-python",
   "name": "python",
   "nbconvert_exporter": "python",
   "pygments_lexer": "ipython3",
   "version": "3.9.6"
  }
 },
 "nbformat": 4,
 "nbformat_minor": 2
}
